{
  "nbformat": 4,
  "nbformat_minor": 0,
  "metadata": {
    "colab": {
      "name": "Untitled",
      "version": "0.3.2",
      "provenance": []
    },
    "kernelspec": {
      "name": "python3",
      "display_name": "Python 3"
    },
    "accelerator": "GPU"
  },
  "cells": [
    {
      "cell_type": "code",
      "metadata": {
        "id": "JDUjGY1nD3SN",
        "colab_type": "code",
        "colab": {}
      },
      "source": [
        "%matplotlib inline"
      ],
      "execution_count": 0,
      "outputs": []
    },
    {
      "cell_type": "code",
      "metadata": {
        "id": "b9q_2B_6ELfG",
        "colab_type": "code",
        "colab": {}
      },
      "source": [
        "from fastai import *\n",
        "from fastai.vision import *"
      ],
      "execution_count": 0,
      "outputs": []
    },
    {
      "cell_type": "code",
      "metadata": {
        "id": "R3j-uhJoErft",
        "colab_type": "code",
        "outputId": "4287fe62-64db-4886-dc0d-86687d870342",
        "colab": {
          "base_uri": "https://localhost:8080/",
          "height": 125
        }
      },
      "source": [
        "from google.colab import drive\n",
        "drive.mount('/content/drive')"
      ],
      "execution_count": 3,
      "outputs": [
        {
          "output_type": "stream",
          "text": [
            "Go to this URL in a browser: https://accounts.google.com/o/oauth2/auth?client_id=947318989803-6bn6qk8qdgf4n4g3pfee6491hc0brc4i.apps.googleusercontent.com&redirect_uri=urn%3Aietf%3Awg%3Aoauth%3A2.0%3Aoob&scope=email%20https%3A%2F%2Fwww.googleapis.com%2Fauth%2Fdocs.test%20https%3A%2F%2Fwww.googleapis.com%2Fauth%2Fdrive%20https%3A%2F%2Fwww.googleapis.com%2Fauth%2Fdrive.photos.readonly%20https%3A%2F%2Fwww.googleapis.com%2Fauth%2Fpeopleapi.readonly&response_type=code\n",
            "\n",
            "Enter your authorization code:\n",
            "··········\n",
            "Mounted at /content/drive\n"
          ],
          "name": "stdout"
        }
      ]
    },
    {
      "cell_type": "code",
      "metadata": {
        "id": "HPseHBfFEtN3",
        "colab_type": "code",
        "outputId": "530f3563-7eae-491f-8e59-69090b0c0766",
        "colab": {
          "base_uri": "https://localhost:8080/",
          "height": 140
        }
      },
      "source": [
        "path = Path('/content/drive/My Drive/ML-DL Data/UCMerced_LandUse')\n",
        "path.ls()"
      ],
      "execution_count": 4,
      "outputs": [
        {
          "output_type": "execute_result",
          "data": {
            "text/plain": [
              "[PosixPath('/content/drive/My Drive/ML-DL Data/UCMerced_LandUse/Images'),\n",
              " PosixPath('/content/drive/My Drive/ML-DL Data/UCMerced_LandUse/readme.txt'),\n",
              " PosixPath('/content/drive/My Drive/ML-DL Data/UCMerced_LandUse/readme.txt.bak'),\n",
              " PosixPath('/content/drive/My Drive/ML-DL Data/UCMerced_LandUse/Stage-2.pth'),\n",
              " PosixPath('/content/drive/My Drive/ML-DL Data/UCMerced_LandUse/Stage-1_big.pth'),\n",
              " PosixPath('/content/drive/My Drive/ML-DL Data/UCMerced_LandUse/final_model.pth'),\n",
              " PosixPath('/content/drive/My Drive/ML-DL Data/UCMerced_LandUse/Stage-1.pth')]"
            ]
          },
          "metadata": {
            "tags": []
          },
          "execution_count": 4
        }
      ]
    },
    {
      "cell_type": "code",
      "metadata": {
        "id": "7SHOSTQPKnPC",
        "colab_type": "code",
        "colab": {}
      },
      "source": [
        "src = (ImageList.from_folder(path/'Images')\n",
        "      .split_by_rand_pct(0.2)\n",
        "      .label_from_folder())"
      ],
      "execution_count": 0,
      "outputs": []
    },
    {
      "cell_type": "code",
      "metadata": {
        "id": "1F_9HlViPQj2",
        "colab_type": "code",
        "colab": {}
      },
      "source": [
        "data = (src.transform(get_transforms(flip_vert=True, max_warp=0), size=128)\n",
        "        .databunch()\n",
        "        .normalize(imagenet_stats))"
      ],
      "execution_count": 0,
      "outputs": []
    },
    {
      "cell_type": "code",
      "metadata": {
        "id": "3Tr57eR0P9zz",
        "colab_type": "code",
        "colab": {}
      },
      "source": [
        "metrics = [accuracy, Precision(average='macro'), Recall(average='macro'),\n",
        "           FBeta(average='macro')]\n",
        "arch = models.resnet34"
      ],
      "execution_count": 0,
      "outputs": []
    },
    {
      "cell_type": "code",
      "metadata": {
        "id": "wHcoHCv3Q_ed",
        "colab_type": "code",
        "colab": {
          "base_uri": "https://localhost:8080/",
          "height": 72
        },
        "outputId": "a1efd1a5-b7d2-4adf-e0c3-26cabd7f5c4d"
      },
      "source": [
        "learn = cnn_learner(data, arch, metrics=metrics)"
      ],
      "execution_count": 8,
      "outputs": [
        {
          "output_type": "stream",
          "text": [
            "Downloading: \"https://download.pytorch.org/models/resnet34-333f7ec4.pth\" to /root/.cache/torch/checkpoints/resnet34-333f7ec4.pth\n",
            "100%|██████████| 87306240/87306240 [00:01<00:00, 67868325.47it/s]\n"
          ],
          "name": "stderr"
        }
      ]
    },
    {
      "cell_type": "code",
      "metadata": {
        "id": "rfzT2NULRHiS",
        "colab_type": "code",
        "outputId": "f00747d6-903e-4977-9448-f80ee763606e",
        "colab": {
          "base_uri": "https://localhost:8080/",
          "height": 301
        }
      },
      "source": [
        "learn.lr_find()\n",
        "learn.recorder.plot()"
      ],
      "execution_count": 0,
      "outputs": [
        {
          "output_type": "display_data",
          "data": {
            "text/html": [
              ""
            ],
            "text/plain": [
              "<IPython.core.display.HTML object>"
            ]
          },
          "metadata": {
            "tags": []
          }
        },
        {
          "output_type": "stream",
          "text": [
            "LR Finder is complete, type {learner_name}.recorder.plot() to see the graph.\n"
          ],
          "name": "stdout"
        },
        {
          "output_type": "display_data",
          "data": {
            "image/png": "[encoded data removed]",
            "text/plain": [
              "<Figure size 432x288 with 1 Axes>"
            ]
          },
          "metadata": {
            "tags": []
          }
        }
      ]
    },
    {
      "cell_type": "code",
      "metadata": {
        "id": "Cn15jo4SRKxa",
        "colab_type": "code",
        "outputId": "1a7d4e95-8791-4c6f-cf99-9d21adf7ecab",
        "colab": {
          "base_uri": "https://localhost:8080/",
          "height": 284
        }
      },
      "source": [
        "learn.fit_one_cycle(8, slice(1e-3))"
      ],
      "execution_count": 9,
      "outputs": [
        {
          "output_type": "display_data",
          "data": {
            "text/html": [
              "<table border=\"1\" class=\"dataframe\">\n",
              "  <thead>\n",
              "    <tr style=\"text-align: left;\">\n",
              "      <th>epoch</th>\n",
              "      <th>train_loss</th>\n",
              "      <th>valid_loss</th>\n",
              "      <th>accuracy</th>\n",
              "      <th>precision</th>\n",
              "      <th>recall</th>\n",
              "      <th>f_beta</th>\n",
              "      <th>time</th>\n",
              "    </tr>\n",
              "  </thead>\n",
              "  <tbody>\n",
              "    <tr>\n",
              "      <td>0</td>\n",
              "      <td>3.441441</td>\n",
              "      <td>2.544956</td>\n",
              "      <td>0.277910</td>\n",
              "      <td>0.240168</td>\n",
              "      <td>0.273182</td>\n",
              "      <td>0.258916</td>\n",
              "      <td>05:47</td>\n",
              "    </tr>\n",
              "    <tr>\n",
              "      <td>1</td>\n",
              "      <td>2.598990</td>\n",
              "      <td>1.165842</td>\n",
              "      <td>0.695962</td>\n",
              "      <td>0.699604</td>\n",
              "      <td>0.702127</td>\n",
              "      <td>0.691497</td>\n",
              "      <td>00:15</td>\n",
              "    </tr>\n",
              "    <tr>\n",
              "      <td>2</td>\n",
              "      <td>1.817913</td>\n",
              "      <td>0.693912</td>\n",
              "      <td>0.821853</td>\n",
              "      <td>0.817808</td>\n",
              "      <td>0.821912</td>\n",
              "      <td>0.817491</td>\n",
              "      <td>00:13</td>\n",
              "    </tr>\n",
              "    <tr>\n",
              "      <td>3</td>\n",
              "      <td>1.315866</td>\n",
              "      <td>0.518957</td>\n",
              "      <td>0.871734</td>\n",
              "      <td>0.867945</td>\n",
              "      <td>0.869883</td>\n",
              "      <td>0.868177</td>\n",
              "      <td>00:14</td>\n",
              "    </tr>\n",
              "    <tr>\n",
              "      <td>4</td>\n",
              "      <td>0.988763</td>\n",
              "      <td>0.449916</td>\n",
              "      <td>0.883610</td>\n",
              "      <td>0.879761</td>\n",
              "      <td>0.882007</td>\n",
              "      <td>0.879730</td>\n",
              "      <td>00:13</td>\n",
              "    </tr>\n",
              "    <tr>\n",
              "      <td>5</td>\n",
              "      <td>0.770685</td>\n",
              "      <td>0.408312</td>\n",
              "      <td>0.890736</td>\n",
              "      <td>0.887370</td>\n",
              "      <td>0.891645</td>\n",
              "      <td>0.888885</td>\n",
              "      <td>00:13</td>\n",
              "    </tr>\n",
              "    <tr>\n",
              "      <td>6</td>\n",
              "      <td>0.642444</td>\n",
              "      <td>0.401103</td>\n",
              "      <td>0.888361</td>\n",
              "      <td>0.884316</td>\n",
              "      <td>0.887586</td>\n",
              "      <td>0.885235</td>\n",
              "      <td>00:13</td>\n",
              "    </tr>\n",
              "    <tr>\n",
              "      <td>7</td>\n",
              "      <td>0.576833</td>\n",
              "      <td>0.401696</td>\n",
              "      <td>0.893112</td>\n",
              "      <td>0.889043</td>\n",
              "      <td>0.893253</td>\n",
              "      <td>0.890479</td>\n",
              "      <td>00:13</td>\n",
              "    </tr>\n",
              "  </tbody>\n",
              "</table>"
            ],
            "text/plain": [
              "<IPython.core.display.HTML object>"
            ]
          },
          "metadata": {
            "tags": []
          }
        }
      ]
    },
    {
      "cell_type": "code",
      "metadata": {
        "id": "jhOfWaRsSVir",
        "colab_type": "code",
        "colab": {
          "base_uri": "https://localhost:8080/",
          "height": 283
        },
        "outputId": "e945a997-e7cb-47f0-f6c6-8910de3a0cf7"
      },
      "source": [
        "learn.recorder.plot_losses()"
      ],
      "execution_count": 10,
      "outputs": [
        {
          "output_type": "display_data",
          "data": {
            "image/png": "[encoded data removed]",
            "text/plain": [
              "<Figure size 432x288 with 1 Axes>"
            ]
          },
          "metadata": {
            "tags": []
          }
        }
      ]
    },
    {
      "cell_type": "code",
      "metadata": {
        "id": "TxrA-QySSbTw",
        "colab_type": "code",
        "outputId": "26b3b73e-674b-4421-d017-afeab8c43f22",
        "colab": {
          "base_uri": "https://localhost:8080/",
          "height": 106
        }
      },
      "source": [
        "learn.fit_one_cycle(2, slice(1e-3))"
      ],
      "execution_count": 14,
      "outputs": [
        {
          "output_type": "display_data",
          "data": {
            "text/html": [
              "<table border=\"1\" class=\"dataframe\">\n",
              "  <thead>\n",
              "    <tr style=\"text-align: left;\">\n",
              "      <th>epoch</th>\n",
              "      <th>train_loss</th>\n",
              "      <th>valid_loss</th>\n",
              "      <th>accuracy</th>\n",
              "      <th>precision</th>\n",
              "      <th>recall</th>\n",
              "      <th>f_beta</th>\n",
              "      <th>time</th>\n",
              "    </tr>\n",
              "  </thead>\n",
              "  <tbody>\n",
              "    <tr>\n",
              "      <td>0</td>\n",
              "      <td>0.403221</td>\n",
              "      <td>0.336152</td>\n",
              "      <td>0.914489</td>\n",
              "      <td>0.910561</td>\n",
              "      <td>0.916338</td>\n",
              "      <td>0.914160</td>\n",
              "      <td>00:13</td>\n",
              "    </tr>\n",
              "    <tr>\n",
              "      <td>1</td>\n",
              "      <td>0.366339</td>\n",
              "      <td>0.337891</td>\n",
              "      <td>0.916865</td>\n",
              "      <td>0.914063</td>\n",
              "      <td>0.918461</td>\n",
              "      <td>0.915934</td>\n",
              "      <td>00:13</td>\n",
              "    </tr>\n",
              "  </tbody>\n",
              "</table>"
            ],
            "text/plain": [
              "<IPython.core.display.HTML object>"
            ]
          },
          "metadata": {
            "tags": []
          }
        }
      ]
    },
    {
      "cell_type": "code",
      "metadata": {
        "id": "FBKVGdgCSxGd",
        "colab_type": "code",
        "colab": {
          "base_uri": "https://localhost:8080/",
          "height": 283
        },
        "outputId": "2580b7e3-08b8-45e2-fb12-f10b90a92eb6"
      },
      "source": [
        "learn.recorder.plot_losses()"
      ],
      "execution_count": 15,
      "outputs": [
        {
          "output_type": "display_data",
          "data": {
            "image/png": "[encoded data removed]",
            "text/plain": [
              "<Figure size 432x288 with 1 Axes>"
            ]
          },
          "metadata": {
            "tags": []
          }
        }
      ]
    },
    {
      "cell_type": "code",
      "metadata": {
        "id": "3ljpHjdbUAPo",
        "colab_type": "code",
        "colab": {}
      },
      "source": [
        "learn.save(path/'Stage-1')"
      ],
      "execution_count": 0,
      "outputs": []
    },
    {
      "cell_type": "markdown",
      "metadata": {
        "id": "41PQx7v6TGIf",
        "colab_type": "text"
      },
      "source": [
        "Trained the learner for 10+2+2 epochs.\n"
      ]
    },
    {
      "cell_type": "code",
      "metadata": {
        "id": "-OrtP4NbUYrb",
        "colab_type": "code",
        "colab": {}
      },
      "source": [
        "learn.load(path/'Stage-1');"
      ],
      "execution_count": 0,
      "outputs": []
    },
    {
      "cell_type": "code",
      "metadata": {
        "id": "6GTeFowkVRvh",
        "colab_type": "code",
        "outputId": "98286935-515e-4674-827d-9971851b2a42",
        "colab": {
          "base_uri": "https://localhost:8080/",
          "height": 283
        }
      },
      "source": [
        "learn.recorder.plot_losses()"
      ],
      "execution_count": 0,
      "outputs": [
        {
          "output_type": "display_data",
          "data": {
            "image/png": "[encoded data removed]",
            "text/plain": [
              "<Figure size 432x288 with 1 Axes>"
            ]
          },
          "metadata": {
            "tags": []
          }
        }
      ]
    },
    {
      "cell_type": "code",
      "metadata": {
        "id": "rfijqQ_JVUox",
        "colab_type": "code",
        "colab": {}
      },
      "source": [
        "learn.unfreeze()"
      ],
      "execution_count": 0,
      "outputs": []
    },
    {
      "cell_type": "code",
      "metadata": {
        "id": "VXAhHVRjVekz",
        "colab_type": "code",
        "outputId": "338f6497-9451-4545-eab6-2d8ed94624c8",
        "colab": {
          "base_uri": "https://localhost:8080/",
          "height": 301
        }
      },
      "source": [
        "learn.lr_find()\n",
        "learn.recorder.plot()"
      ],
      "execution_count": 18,
      "outputs": [
        {
          "output_type": "display_data",
          "data": {
            "text/html": [
              ""
            ],
            "text/plain": [
              "<IPython.core.display.HTML object>"
            ]
          },
          "metadata": {
            "tags": []
          }
        },
        {
          "output_type": "stream",
          "text": [
            "LR Finder is complete, type {learner_name}.recorder.plot() to see the graph.\n"
          ],
          "name": "stdout"
        },
        {
          "output_type": "display_data",
          "data": {
            "image/png": "[encoded data removed]",
            "text/plain": [
              "<Figure size 432x288 with 1 Axes>"
            ]
          },
          "metadata": {
            "tags": []
          }
        }
      ]
    },
    {
      "cell_type": "code",
      "metadata": {
        "id": "iKVheKMHViEB",
        "colab_type": "code",
        "outputId": "ec2fbc5b-ece2-47e4-e2fb-5bf5a5fd148d",
        "colab": {
          "base_uri": "https://localhost:8080/",
          "height": 284
        }
      },
      "source": [
        "learn.fit_one_cycle(8, slice(1e-4, 1e-3/5))"
      ],
      "execution_count": 19,
      "outputs": [
        {
          "output_type": "display_data",
          "data": {
            "text/html": [
              "<table border=\"1\" class=\"dataframe\">\n",
              "  <thead>\n",
              "    <tr style=\"text-align: left;\">\n",
              "      <th>epoch</th>\n",
              "      <th>train_loss</th>\n",
              "      <th>valid_loss</th>\n",
              "      <th>accuracy</th>\n",
              "      <th>precision</th>\n",
              "      <th>recall</th>\n",
              "      <th>f_beta</th>\n",
              "      <th>time</th>\n",
              "    </tr>\n",
              "  </thead>\n",
              "  <tbody>\n",
              "    <tr>\n",
              "      <td>0</td>\n",
              "      <td>0.324472</td>\n",
              "      <td>0.274140</td>\n",
              "      <td>0.921615</td>\n",
              "      <td>0.916772</td>\n",
              "      <td>0.921021</td>\n",
              "      <td>0.919325</td>\n",
              "      <td>00:14</td>\n",
              "    </tr>\n",
              "    <tr>\n",
              "      <td>1</td>\n",
              "      <td>0.263303</td>\n",
              "      <td>0.163320</td>\n",
              "      <td>0.954869</td>\n",
              "      <td>0.955632</td>\n",
              "      <td>0.957065</td>\n",
              "      <td>0.956350</td>\n",
              "      <td>00:14</td>\n",
              "    </tr>\n",
              "    <tr>\n",
              "      <td>2</td>\n",
              "      <td>0.205337</td>\n",
              "      <td>0.125493</td>\n",
              "      <td>0.961995</td>\n",
              "      <td>0.962063</td>\n",
              "      <td>0.962665</td>\n",
              "      <td>0.961841</td>\n",
              "      <td>00:14</td>\n",
              "    </tr>\n",
              "    <tr>\n",
              "      <td>3</td>\n",
              "      <td>0.158273</td>\n",
              "      <td>0.100395</td>\n",
              "      <td>0.964371</td>\n",
              "      <td>0.965943</td>\n",
              "      <td>0.964616</td>\n",
              "      <td>0.964426</td>\n",
              "      <td>00:14</td>\n",
              "    </tr>\n",
              "    <tr>\n",
              "      <td>4</td>\n",
              "      <td>0.121665</td>\n",
              "      <td>0.115002</td>\n",
              "      <td>0.959620</td>\n",
              "      <td>0.960577</td>\n",
              "      <td>0.961589</td>\n",
              "      <td>0.960400</td>\n",
              "      <td>00:14</td>\n",
              "    </tr>\n",
              "    <tr>\n",
              "      <td>5</td>\n",
              "      <td>0.094448</td>\n",
              "      <td>0.098569</td>\n",
              "      <td>0.971496</td>\n",
              "      <td>0.971177</td>\n",
              "      <td>0.971667</td>\n",
              "      <td>0.970979</td>\n",
              "      <td>00:14</td>\n",
              "    </tr>\n",
              "    <tr>\n",
              "      <td>6</td>\n",
              "      <td>0.075651</td>\n",
              "      <td>0.090429</td>\n",
              "      <td>0.976247</td>\n",
              "      <td>0.976100</td>\n",
              "      <td>0.976157</td>\n",
              "      <td>0.975616</td>\n",
              "      <td>00:14</td>\n",
              "    </tr>\n",
              "    <tr>\n",
              "      <td>7</td>\n",
              "      <td>0.061710</td>\n",
              "      <td>0.090468</td>\n",
              "      <td>0.971496</td>\n",
              "      <td>0.971726</td>\n",
              "      <td>0.971383</td>\n",
              "      <td>0.970846</td>\n",
              "      <td>00:14</td>\n",
              "    </tr>\n",
              "  </tbody>\n",
              "</table>"
            ],
            "text/plain": [
              "<IPython.core.display.HTML object>"
            ]
          },
          "metadata": {
            "tags": []
          }
        }
      ]
    },
    {
      "cell_type": "code",
      "metadata": {
        "id": "E-DsRay8WDC-",
        "colab_type": "code",
        "outputId": "a597e085-409e-421b-fe96-a461429f87ca",
        "colab": {
          "base_uri": "https://localhost:8080/",
          "height": 283
        }
      },
      "source": [
        "learn.recorder.plot_losses()"
      ],
      "execution_count": 20,
      "outputs": [
        {
          "output_type": "display_data",
          "data": {
            "image/png": "[encoded data removed]",
            "text/plain": [
              "<Figure size 432x288 with 1 Axes>"
            ]
          },
          "metadata": {
            "tags": []
          }
        }
      ]
    },
    {
      "cell_type": "code",
      "metadata": {
        "id": "qVlOQyIKWoqs",
        "colab_type": "code",
        "colab": {}
      },
      "source": [
        "learn.save(path/'Stage-2')"
      ],
      "execution_count": 0,
      "outputs": []
    },
    {
      "cell_type": "code",
      "metadata": {
        "id": "nswQKLHQU-Ug",
        "colab_type": "code",
        "colab": {
          "base_uri": "https://localhost:8080/",
          "height": 106
        },
        "outputId": "2da84d9b-2e40-46d2-aa12-fa2a8c42f7df"
      },
      "source": [
        "learn.fit_one_cycle(2, slice(1e-4, 1e-3/5))"
      ],
      "execution_count": 22,
      "outputs": [
        {
          "output_type": "display_data",
          "data": {
            "text/html": [
              "<table border=\"1\" class=\"dataframe\">\n",
              "  <thead>\n",
              "    <tr style=\"text-align: left;\">\n",
              "      <th>epoch</th>\n",
              "      <th>train_loss</th>\n",
              "      <th>valid_loss</th>\n",
              "      <th>accuracy</th>\n",
              "      <th>precision</th>\n",
              "      <th>recall</th>\n",
              "      <th>f_beta</th>\n",
              "      <th>time</th>\n",
              "    </tr>\n",
              "  </thead>\n",
              "  <tbody>\n",
              "    <tr>\n",
              "      <td>0</td>\n",
              "      <td>0.040907</td>\n",
              "      <td>0.095173</td>\n",
              "      <td>0.964371</td>\n",
              "      <td>0.967282</td>\n",
              "      <td>0.966459</td>\n",
              "      <td>0.964943</td>\n",
              "      <td>00:14</td>\n",
              "    </tr>\n",
              "    <tr>\n",
              "      <td>1</td>\n",
              "      <td>0.052163</td>\n",
              "      <td>0.093888</td>\n",
              "      <td>0.978622</td>\n",
              "      <td>0.980576</td>\n",
              "      <td>0.981400</td>\n",
              "      <td>0.980438</td>\n",
              "      <td>00:14</td>\n",
              "    </tr>\n",
              "  </tbody>\n",
              "</table>"
            ],
            "text/plain": [
              "<IPython.core.display.HTML object>"
            ]
          },
          "metadata": {
            "tags": []
          }
        }
      ]
    },
    {
      "cell_type": "markdown",
      "metadata": {
        "id": "24Ip1eCmVbee",
        "colab_type": "text"
      },
      "source": [
        "Since valid_loss increases, we revert back to the previously saved model."
      ]
    },
    {
      "cell_type": "code",
      "metadata": {
        "id": "k7piem-MVNv5",
        "colab_type": "code",
        "colab": {}
      },
      "source": [
        "learn.load(path/'Stage-2');"
      ],
      "execution_count": 0,
      "outputs": []
    },
    {
      "cell_type": "code",
      "metadata": {
        "id": "vo9Dx9fsVivN",
        "colab_type": "code",
        "colab": {}
      },
      "source": [
        "data = (src.transform(get_transforms(flip_vert=True, max_warp=0), size=256)\n",
        "        .databunch()\n",
        "        .normalize(imagenet_stats))"
      ],
      "execution_count": 0,
      "outputs": []
    },
    {
      "cell_type": "markdown",
      "metadata": {
        "id": "WhCJHEkiVs_j",
        "colab_type": "text"
      },
      "source": [
        "Retraining the model with bigger images"
      ]
    },
    {
      "cell_type": "code",
      "metadata": {
        "id": "6tDLo9HoVrvl",
        "colab_type": "code",
        "colab": {}
      },
      "source": [
        "learn.data = data"
      ],
      "execution_count": 0,
      "outputs": []
    },
    {
      "cell_type": "code",
      "metadata": {
        "id": "cNUjWu5MVzsY",
        "colab_type": "code",
        "colab": {}
      },
      "source": [
        "learn.freeze()"
      ],
      "execution_count": 0,
      "outputs": []
    },
    {
      "cell_type": "code",
      "metadata": {
        "id": "ndcre-6EV1RW",
        "colab_type": "code",
        "colab": {
          "base_uri": "https://localhost:8080/",
          "height": 34
        },
        "outputId": "88a60ba0-c31a-43c0-a536-1db4751631f6"
      },
      "source": [
        "learn.lr_find()"
      ],
      "execution_count": 27,
      "outputs": [
        {
          "output_type": "display_data",
          "data": {
            "text/html": [
              ""
            ],
            "text/plain": [
              "<IPython.core.display.HTML object>"
            ]
          },
          "metadata": {
            "tags": []
          }
        },
        {
          "output_type": "stream",
          "text": [
            "LR Finder is complete, type {learner_name}.recorder.plot() to see the graph.\n"
          ],
          "name": "stdout"
        }
      ]
    },
    {
      "cell_type": "code",
      "metadata": {
        "id": "-QxduGTpV2gC",
        "colab_type": "code",
        "colab": {
          "base_uri": "https://localhost:8080/",
          "height": 283
        },
        "outputId": "1a46e13e-248e-4658-f3a1-24313049c9af"
      },
      "source": [
        "learn.recorder.plot()"
      ],
      "execution_count": 28,
      "outputs": [
        {
          "output_type": "display_data",
          "data": {
            "image/png": "[encoded data removed]",
            "text/plain": [
              "<Figure size 432x288 with 1 Axes>"
            ]
          },
          "metadata": {
            "tags": []
          }
        }
      ]
    },
    {
      "cell_type": "code",
      "metadata": {
        "id": "5ZBEhCkiWKc_",
        "colab_type": "code",
        "colab": {
          "base_uri": "https://localhost:8080/",
          "height": 284
        },
        "outputId": "c3f9f605-bc7c-4fef-8d79-e0ffeec6b254"
      },
      "source": [
        "learn.fit_one_cycle(8, slice(1e-3))"
      ],
      "execution_count": 29,
      "outputs": [
        {
          "output_type": "display_data",
          "data": {
            "text/html": [
              "<table border=\"1\" class=\"dataframe\">\n",
              "  <thead>\n",
              "    <tr style=\"text-align: left;\">\n",
              "      <th>epoch</th>\n",
              "      <th>train_loss</th>\n",
              "      <th>valid_loss</th>\n",
              "      <th>accuracy</th>\n",
              "      <th>precision</th>\n",
              "      <th>recall</th>\n",
              "      <th>f_beta</th>\n",
              "      <th>time</th>\n",
              "    </tr>\n",
              "  </thead>\n",
              "  <tbody>\n",
              "    <tr>\n",
              "      <td>0</td>\n",
              "      <td>0.242159</td>\n",
              "      <td>0.237816</td>\n",
              "      <td>0.921615</td>\n",
              "      <td>0.921284</td>\n",
              "      <td>0.922712</td>\n",
              "      <td>0.920657</td>\n",
              "      <td>00:25</td>\n",
              "    </tr>\n",
              "    <tr>\n",
              "      <td>1</td>\n",
              "      <td>0.200418</td>\n",
              "      <td>0.170580</td>\n",
              "      <td>0.942993</td>\n",
              "      <td>0.942403</td>\n",
              "      <td>0.944350</td>\n",
              "      <td>0.942686</td>\n",
              "      <td>00:24</td>\n",
              "    </tr>\n",
              "    <tr>\n",
              "      <td>2</td>\n",
              "      <td>0.153528</td>\n",
              "      <td>0.136183</td>\n",
              "      <td>0.952494</td>\n",
              "      <td>0.954713</td>\n",
              "      <td>0.951544</td>\n",
              "      <td>0.950536</td>\n",
              "      <td>00:25</td>\n",
              "    </tr>\n",
              "    <tr>\n",
              "      <td>3</td>\n",
              "      <td>0.133127</td>\n",
              "      <td>0.116791</td>\n",
              "      <td>0.950119</td>\n",
              "      <td>0.950361</td>\n",
              "      <td>0.951036</td>\n",
              "      <td>0.949774</td>\n",
              "      <td>00:25</td>\n",
              "    </tr>\n",
              "    <tr>\n",
              "      <td>4</td>\n",
              "      <td>0.110820</td>\n",
              "      <td>0.106467</td>\n",
              "      <td>0.957245</td>\n",
              "      <td>0.959930</td>\n",
              "      <td>0.956257</td>\n",
              "      <td>0.955502</td>\n",
              "      <td>00:24</td>\n",
              "    </tr>\n",
              "    <tr>\n",
              "      <td>5</td>\n",
              "      <td>0.098315</td>\n",
              "      <td>0.110111</td>\n",
              "      <td>0.964371</td>\n",
              "      <td>0.964555</td>\n",
              "      <td>0.964115</td>\n",
              "      <td>0.963579</td>\n",
              "      <td>00:25</td>\n",
              "    </tr>\n",
              "    <tr>\n",
              "      <td>6</td>\n",
              "      <td>0.085692</td>\n",
              "      <td>0.101176</td>\n",
              "      <td>0.966746</td>\n",
              "      <td>0.966753</td>\n",
              "      <td>0.967164</td>\n",
              "      <td>0.966428</td>\n",
              "      <td>00:24</td>\n",
              "    </tr>\n",
              "    <tr>\n",
              "      <td>7</td>\n",
              "      <td>0.076803</td>\n",
              "      <td>0.102683</td>\n",
              "      <td>0.961995</td>\n",
              "      <td>0.960947</td>\n",
              "      <td>0.962354</td>\n",
              "      <td>0.961435</td>\n",
              "      <td>00:25</td>\n",
              "    </tr>\n",
              "  </tbody>\n",
              "</table>"
            ],
            "text/plain": [
              "<IPython.core.display.HTML object>"
            ]
          },
          "metadata": {
            "tags": []
          }
        }
      ]
    },
    {
      "cell_type": "code",
      "metadata": {
        "id": "hWdN4J9YWUQP",
        "colab_type": "code",
        "colab": {
          "base_uri": "https://localhost:8080/",
          "height": 283
        },
        "outputId": "cc400148-5f58-4266-c0fd-93251a6a7882"
      },
      "source": [
        "learn.recorder.plot_losses()"
      ],
      "execution_count": 30,
      "outputs": [
        {
          "output_type": "display_data",
          "data": {
            "image/png": "[encoded data removed]",
            "text/plain": [
              "<Figure size 432x288 with 1 Axes>"
            ]
          },
          "metadata": {
            "tags": []
          }
        }
      ]
    },
    {
      "cell_type": "code",
      "metadata": {
        "id": "oVPdVF58XGiC",
        "colab_type": "code",
        "colab": {}
      },
      "source": [
        "learn.save(path/'Stage-1_big')"
      ],
      "execution_count": 0,
      "outputs": []
    },
    {
      "cell_type": "code",
      "metadata": {
        "id": "OktmbQqUXPo4",
        "colab_type": "code",
        "colab": {
          "base_uri": "https://localhost:8080/",
          "height": 106
        },
        "outputId": "e8de16bb-c36a-4f9d-9839-96bce18ebba7"
      },
      "source": [
        "learn.fit_one_cycle(2, slice(1e-3))"
      ],
      "execution_count": 32,
      "outputs": [
        {
          "output_type": "display_data",
          "data": {
            "text/html": [
              "<table border=\"1\" class=\"dataframe\">\n",
              "  <thead>\n",
              "    <tr style=\"text-align: left;\">\n",
              "      <th>epoch</th>\n",
              "      <th>train_loss</th>\n",
              "      <th>valid_loss</th>\n",
              "      <th>accuracy</th>\n",
              "      <th>precision</th>\n",
              "      <th>recall</th>\n",
              "      <th>f_beta</th>\n",
              "      <th>time</th>\n",
              "    </tr>\n",
              "  </thead>\n",
              "  <tbody>\n",
              "    <tr>\n",
              "      <td>0</td>\n",
              "      <td>0.051779</td>\n",
              "      <td>0.097733</td>\n",
              "      <td>0.966746</td>\n",
              "      <td>0.965862</td>\n",
              "      <td>0.968401</td>\n",
              "      <td>0.967234</td>\n",
              "      <td>00:24</td>\n",
              "    </tr>\n",
              "    <tr>\n",
              "      <td>1</td>\n",
              "      <td>0.058898</td>\n",
              "      <td>0.091890</td>\n",
              "      <td>0.969121</td>\n",
              "      <td>0.968174</td>\n",
              "      <td>0.969517</td>\n",
              "      <td>0.968400</td>\n",
              "      <td>00:24</td>\n",
              "    </tr>\n",
              "  </tbody>\n",
              "</table>"
            ],
            "text/plain": [
              "<IPython.core.display.HTML object>"
            ]
          },
          "metadata": {
            "tags": []
          }
        }
      ]
    },
    {
      "cell_type": "code",
      "metadata": {
        "id": "6zY8Ap6tXc1i",
        "colab_type": "code",
        "colab": {}
      },
      "source": [
        "learn.save(path/'Stage-1_big')"
      ],
      "execution_count": 0,
      "outputs": []
    },
    {
      "cell_type": "markdown",
      "metadata": {
        "id": "PV3aw5GEXutV",
        "colab_type": "text"
      },
      "source": [
        "Trained for 10+2 epochs"
      ]
    },
    {
      "cell_type": "code",
      "metadata": {
        "id": "g_HLnDYpXtuM",
        "colab_type": "code",
        "colab": {}
      },
      "source": [
        "learn.unfreeze()"
      ],
      "execution_count": 0,
      "outputs": []
    },
    {
      "cell_type": "code",
      "metadata": {
        "id": "pswkFB5CXzZl",
        "colab_type": "code",
        "colab": {
          "base_uri": "https://localhost:8080/",
          "height": 301
        },
        "outputId": "9666876a-4839-43f8-e97e-111008c6c553"
      },
      "source": [
        "learn.lr_find()\n",
        "learn.recorder.plot()"
      ],
      "execution_count": 35,
      "outputs": [
        {
          "output_type": "display_data",
          "data": {
            "text/html": [
              ""
            ],
            "text/plain": [
              "<IPython.core.display.HTML object>"
            ]
          },
          "metadata": {
            "tags": []
          }
        },
        {
          "output_type": "stream",
          "text": [
            "LR Finder is complete, type {learner_name}.recorder.plot() to see the graph.\n"
          ],
          "name": "stdout"
        },
        {
          "output_type": "display_data",
          "data": {
            "image/png": "[encoded data removed]",
            "text/plain": [
              "<Figure size 432x288 with 1 Axes>"
            ]
          },
          "metadata": {
            "tags": []
          }
        }
      ]
    },
    {
      "cell_type": "code",
      "metadata": {
        "id": "vr4QrNyyX248",
        "colab_type": "code",
        "colab": {
          "base_uri": "https://localhost:8080/",
          "height": 284
        },
        "outputId": "af951bcf-8151-4db9-9aaa-5bfc6283567d"
      },
      "source": [
        "learn.fit_one_cycle(8, slice(3e-5, 1e-3/5))"
      ],
      "execution_count": 36,
      "outputs": [
        {
          "output_type": "display_data",
          "data": {
            "text/html": [
              "<table border=\"1\" class=\"dataframe\">\n",
              "  <thead>\n",
              "    <tr style=\"text-align: left;\">\n",
              "      <th>epoch</th>\n",
              "      <th>train_loss</th>\n",
              "      <th>valid_loss</th>\n",
              "      <th>accuracy</th>\n",
              "      <th>precision</th>\n",
              "      <th>recall</th>\n",
              "      <th>f_beta</th>\n",
              "      <th>time</th>\n",
              "    </tr>\n",
              "  </thead>\n",
              "  <tbody>\n",
              "    <tr>\n",
              "      <td>0</td>\n",
              "      <td>0.064843</td>\n",
              "      <td>0.080691</td>\n",
              "      <td>0.966746</td>\n",
              "      <td>0.967200</td>\n",
              "      <td>0.966900</td>\n",
              "      <td>0.966352</td>\n",
              "      <td>00:26</td>\n",
              "    </tr>\n",
              "    <tr>\n",
              "      <td>1</td>\n",
              "      <td>0.050430</td>\n",
              "      <td>0.076991</td>\n",
              "      <td>0.966746</td>\n",
              "      <td>0.965024</td>\n",
              "      <td>0.965973</td>\n",
              "      <td>0.964810</td>\n",
              "      <td>00:27</td>\n",
              "    </tr>\n",
              "    <tr>\n",
              "      <td>2</td>\n",
              "      <td>0.049513</td>\n",
              "      <td>0.090704</td>\n",
              "      <td>0.961995</td>\n",
              "      <td>0.964789</td>\n",
              "      <td>0.959442</td>\n",
              "      <td>0.959799</td>\n",
              "      <td>00:27</td>\n",
              "    </tr>\n",
              "    <tr>\n",
              "      <td>3</td>\n",
              "      <td>0.051997</td>\n",
              "      <td>0.063953</td>\n",
              "      <td>0.978622</td>\n",
              "      <td>0.979609</td>\n",
              "      <td>0.978567</td>\n",
              "      <td>0.978197</td>\n",
              "      <td>00:27</td>\n",
              "    </tr>\n",
              "    <tr>\n",
              "      <td>4</td>\n",
              "      <td>0.047963</td>\n",
              "      <td>0.059175</td>\n",
              "      <td>0.983373</td>\n",
              "      <td>0.984192</td>\n",
              "      <td>0.984419</td>\n",
              "      <td>0.984081</td>\n",
              "      <td>00:27</td>\n",
              "    </tr>\n",
              "    <tr>\n",
              "      <td>5</td>\n",
              "      <td>0.036781</td>\n",
              "      <td>0.040611</td>\n",
              "      <td>0.988124</td>\n",
              "      <td>0.988633</td>\n",
              "      <td>0.989443</td>\n",
              "      <td>0.988971</td>\n",
              "      <td>00:26</td>\n",
              "    </tr>\n",
              "    <tr>\n",
              "      <td>6</td>\n",
              "      <td>0.030237</td>\n",
              "      <td>0.037662</td>\n",
              "      <td>0.992874</td>\n",
              "      <td>0.993042</td>\n",
              "      <td>0.993588</td>\n",
              "      <td>0.993375</td>\n",
              "      <td>00:26</td>\n",
              "    </tr>\n",
              "    <tr>\n",
              "      <td>7</td>\n",
              "      <td>0.025453</td>\n",
              "      <td>0.036109</td>\n",
              "      <td>0.990499</td>\n",
              "      <td>0.990397</td>\n",
              "      <td>0.990787</td>\n",
              "      <td>0.990553</td>\n",
              "      <td>00:26</td>\n",
              "    </tr>\n",
              "  </tbody>\n",
              "</table>"
            ],
            "text/plain": [
              "<IPython.core.display.HTML object>"
            ]
          },
          "metadata": {
            "tags": []
          }
        }
      ]
    },
    {
      "cell_type": "code",
      "metadata": {
        "id": "-8J-B0_EYk-I",
        "colab_type": "code",
        "colab": {}
      },
      "source": [
        "learn.save(path/'final_model')"
      ],
      "execution_count": 0,
      "outputs": []
    },
    {
      "cell_type": "code",
      "metadata": {
        "id": "41vRlbHuZsOf",
        "colab_type": "code",
        "colab": {
          "base_uri": "https://localhost:8080/",
          "height": 283
        },
        "outputId": "5dee730c-8249-42b8-e15a-4d8d0499d527"
      },
      "source": [
        "learn.recorder.plot_losses()"
      ],
      "execution_count": 38,
      "outputs": [
        {
          "output_type": "display_data",
          "data": {
            "image/png": "[encoded data removed]",
            "text/plain": [
              "<Figure size 432x288 with 1 Axes>"
            ]
          },
          "metadata": {
            "tags": []
          }
        }
      ]
    },
    {
      "cell_type": "code",
      "metadata": {
        "id": "9heP6vVhZ26H",
        "colab_type": "code",
        "colab": {}
      },
      "source": [
        "learn.load(path/'final_model');"
      ],
      "execution_count": 0,
      "outputs": []
    },
    {
      "cell_type": "code",
      "metadata": {
        "id": "dFQln_NpaCcR",
        "colab_type": "code",
        "colab": {}
      },
      "source": [
        ""
      ],
      "execution_count": 0,
      "outputs": []
    }
  ]
}